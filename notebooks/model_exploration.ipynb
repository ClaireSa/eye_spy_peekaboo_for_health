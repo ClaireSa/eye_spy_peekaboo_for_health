{
 "cells": [
  {
   "cell_type": "code",
   "execution_count": 1,
   "metadata": {},
   "outputs": [],
   "source": [
    "import os\n",
    "import pandas as pd\n",
    "import numpy as np\n",
    "from tensorflow.keras.preprocessing.image import load_img\n",
    "from tensorflow.keras.utils import to_categorical, img_to_array\n",
    "from sklearn.model_selection import train_test_split\n",
    "from tensorflow.keras.models import Sequential, Model\n",
    "from tensorflow.keras.layers import Dense, Conv2D, Flatten, MaxPooling2D, Input, concatenate\n",
    "from ml_logic.preprocessor import data_balancing, create_augmented_model\n",
    "from ml_logic.preprocessor import load_and_preprocess_image\n"
   ]
  },
  {
   "cell_type": "code",
   "execution_count": 2,
   "metadata": {},
   "outputs": [],
   "source": [
    "train = pd.read_csv('../data/RFMiD_Training_Labels.csv').set_index('ID')\n",
    "test = pd.read_csv('../data/RFMiD_Testing_Labels.csv').set_index('ID')\n",
    "eval = pd.read_csv('../data/RFMiD_Validation_Labels.csv').set_index('ID')\n"
   ]
  },
  {
   "cell_type": "code",
   "execution_count": 16,
   "metadata": {},
   "outputs": [],
   "source": [
    "# X_train = train.drop(columns='Disease_Risk')\n",
    "X_train = data_balancing(table_link='../data/')\n",
    "# y_train = train['Disease_Risk']\n",
    "y_train = X_train\n",
    "X_eval  = eval.drop(columns='Disease_Risk')\n",
    "y_eval = eval['Disease_Risk']\n"
   ]
  },
  {
   "cell_type": "code",
   "execution_count": 4,
   "metadata": {},
   "outputs": [
    {
     "data": {
      "text/plain": [
       "(802, 224, 224, 3)"
      ]
     },
     "execution_count": 4,
     "metadata": {},
     "output_type": "execute_result"
    }
   ],
   "source": [
    "image_folder = '../data/training_images'\n",
    "images = np.array([load_and_preprocess_image(row_id, image_folder) for row_id in X_train.index])\n",
    "# images = np.array([load_and_preprocess_image(X_train.iloc[0].ID, image_folder)])\n",
    "images.shape\n"
   ]
  },
  {
   "cell_type": "code",
   "execution_count": 5,
   "metadata": {},
   "outputs": [],
   "source": [
    "eval_image_folder = '../data/eval_images'\n",
    "eval_images = np.array([load_and_preprocess_image(row_id, image_folder) for row_id in X_eval.index])\n"
   ]
  },
  {
   "cell_type": "code",
   "execution_count": 20,
   "metadata": {},
   "outputs": [],
   "source": [
    "image_input = Input(shape=(224, 224, 3))\n",
    "\n",
    "x = Conv2D(32, (3, 3), activation='relu')(image_input)\n",
    "x = MaxPooling2D(2, 2)(x)\n",
    "x = Flatten()(x)\n",
    "\n",
    "\n",
    "#  NOTE: row_input would cause data leakage so it's been commented out.\n",
    "\n",
    "# row_input = Input(shape=(X_train.shape[1],))\n",
    "# y = Dense(64, activation='relu')(row_input)\n",
    "\n",
    "# combined = concatenate([x, y])\n",
    "\n",
    "z = Dense(12, activation='relu')(x)\n",
    "z = Dense(64, activation='relu')(z)\n",
    "z = Dense(1, activation='sigmoid')(z)\n",
    "\n",
    "\n",
    "model = Model(inputs=image_input, outputs=z)\n",
    "\n",
    "model.compile(optimizer='adam', loss='binary_crossentropy', metrics=['accuracy'])\n"
   ]
  },
  {
   "cell_type": "code",
   "execution_count": 21,
   "metadata": {},
   "outputs": [
    {
     "name": "stdout",
     "output_type": "stream",
     "text": [
      "Model: \"model_1\"\n",
      "_________________________________________________________________\n",
      " Layer (type)                Output Shape              Param #   \n",
      "=================================================================\n",
      " input_2 (InputLayer)        [(None, 224, 224, 3)]     0         \n",
      "                                                                 \n",
      " conv2d_1 (Conv2D)           (None, 222, 222, 32)      896       \n",
      "                                                                 \n",
      " max_pooling2d_1 (MaxPoolin  (None, 111, 111, 32)      0         \n",
      " g2D)                                                            \n",
      "                                                                 \n",
      " flatten_1 (Flatten)         (None, 394272)            0         \n",
      "                                                                 \n",
      " dense_3 (Dense)             (None, 12)                4731276   \n",
      "                                                                 \n",
      " dense_4 (Dense)             (None, 64)                832       \n",
      "                                                                 \n",
      " dense_5 (Dense)             (None, 1)                 65        \n",
      "                                                                 \n",
      "=================================================================\n",
      "Total params: 4733069 (18.06 MB)\n",
      "Trainable params: 4733069 (18.06 MB)\n",
      "Non-trainable params: 0 (0.00 Byte)\n",
      "_________________________________________________________________\n"
     ]
    }
   ],
   "source": [
    "model.summary()\n"
   ]
  },
  {
   "cell_type": "code",
   "execution_count": 18,
   "metadata": {},
   "outputs": [
    {
     "name": "stdout",
     "output_type": "stream",
     "text": [
      "Epoch 1/10\n",
      "26/26 [==============================] - 8s 285ms/step - loss: 0.8171 - accuracy: 0.5150 - val_loss: 0.6995 - val_accuracy: 0.2094\n",
      "Epoch 2/10\n",
      "26/26 [==============================] - 8s 294ms/step - loss: 0.6933 - accuracy: 0.5000 - val_loss: 0.7010 - val_accuracy: 0.2094\n",
      "Epoch 3/10\n",
      "26/26 [==============================] - 6s 247ms/step - loss: 0.6933 - accuracy: 0.5000 - val_loss: 0.6987 - val_accuracy: 0.2094\n",
      "Epoch 4/10\n",
      "26/26 [==============================] - 7s 249ms/step - loss: 0.6933 - accuracy: 0.4726 - val_loss: 0.6921 - val_accuracy: 0.7906\n",
      "Epoch 5/10\n",
      "26/26 [==============================] - 6s 246ms/step - loss: 0.6932 - accuracy: 0.5000 - val_loss: 0.6929 - val_accuracy: 0.7906\n",
      "Epoch 6/10\n",
      "26/26 [==============================] - 7s 253ms/step - loss: 0.6932 - accuracy: 0.4825 - val_loss: 0.6925 - val_accuracy: 0.7906\n",
      "Epoch 7/10\n",
      "26/26 [==============================] - 7s 257ms/step - loss: 0.6932 - accuracy: 0.5000 - val_loss: 0.6923 - val_accuracy: 0.7906\n",
      "Epoch 8/10\n",
      "26/26 [==============================] - 7s 259ms/step - loss: 0.6932 - accuracy: 0.5000 - val_loss: 0.6911 - val_accuracy: 0.7906\n",
      "Epoch 9/10\n",
      "26/26 [==============================] - 7s 254ms/step - loss: 0.6932 - accuracy: 0.5000 - val_loss: 0.6914 - val_accuracy: 0.7906\n",
      "Epoch 10/10\n",
      "26/26 [==============================] - 6s 247ms/step - loss: 0.6932 - accuracy: 0.5000 - val_loss: 0.6920 - val_accuracy: 0.7906\n"
     ]
    },
    {
     "data": {
      "text/plain": [
       "<keras.src.callbacks.History at 0x2979c6e00>"
      ]
     },
     "execution_count": 18,
     "metadata": {},
     "output_type": "execute_result"
    }
   ],
   "source": [
    "model.fit(\n",
    "    images, y_train,\n",
    "    validation_data=(eval_images, y_eval),\n",
    "    epochs=10,\n",
    "    batch_size=32\n",
    ")\n"
   ]
  },
  {
   "cell_type": "code",
   "execution_count": 19,
   "metadata": {},
   "outputs": [
    {
     "name": "stdout",
     "output_type": "stream",
     "text": [
      "20/20 [==============================] - 1s 64ms/step - loss: 0.6920 - accuracy: 0.7906\n"
     ]
    },
    {
     "data": {
      "text/plain": [
       "[0.6920269727706909, 0.7906249761581421]"
      ]
     },
     "execution_count": 19,
     "metadata": {},
     "output_type": "execute_result"
    }
   ],
   "source": [
    "model.evaluate(eval_images, y_eval)\n"
   ]
  }
 ],
 "metadata": {
  "kernelspec": {
   "display_name": "lewagon",
   "language": "python",
   "name": "python3"
  },
  "language_info": {
   "codemirror_mode": {
    "name": "ipython",
    "version": 3
   },
   "file_extension": ".py",
   "mimetype": "text/x-python",
   "name": "python",
   "nbconvert_exporter": "python",
   "pygments_lexer": "ipython3",
   "version": "3.10.6"
  }
 },
 "nbformat": 4,
 "nbformat_minor": 2
}
