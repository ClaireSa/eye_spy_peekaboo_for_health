{
 "cells": [
  {
   "cell_type": "code",
   "execution_count": 47,
   "metadata": {},
   "outputs": [],
   "source": [
    "import os\n",
    "import pandas as pd\n",
    "import numpy as np\n",
    "from tensorflow.keras.preprocessing.image import load_img, img_to_array\n",
    "from tensorflow.keras.utils import to_categorical\n",
    "from sklearn.model_selection import train_test_split\n",
    "from tensorflow.keras.models import Sequential\n",
    "from tensorflow.keras.layers import Dense, Conv2D, Flatten, MaxPooling2D"
   ]
  },
  {
   "cell_type": "code",
   "execution_count": 50,
   "metadata": {},
   "outputs": [],
   "source": [
    "train = pd.read_csv('../data/RFMiD_Training_Labels.csv').set_index('ID')\n",
    "test = pd.read_csv('../data/RFMiD_Testing_Labels.csv').set_index('ID')\n",
    "eval = pd.read_csv('../data/RFMiD_Validation_Labels.csv').set_index('ID')"
   ]
  },
  {
   "cell_type": "code",
   "execution_count": 51,
   "metadata": {},
   "outputs": [
    {
     "data": {
      "text/plain": [
       "Index(['Disease_Risk', 'DR', 'ARMD', 'MH', 'DN', 'MYA', 'BRVO', 'TSLN', 'ERM',\n",
       "       'LS', 'MS', 'CSR', 'ODC', 'CRVO', 'TV', 'AH', 'ODP', 'ODE', 'ST',\n",
       "       'AION', 'PT', 'RT', 'RS', 'CRS', 'EDN', 'RPEC', 'MHL', 'RP', 'CWS',\n",
       "       'CB', 'ODPM', 'PRH', 'MNF', 'HR', 'CRAO', 'TD', 'CME', 'PTCR', 'CF',\n",
       "       'VH', 'MCA', 'VS', 'BRAO', 'PLQ', 'HPED', 'CL'],\n",
       "      dtype='object')"
      ]
     },
     "execution_count": 51,
     "metadata": {},
     "output_type": "execute_result"
    }
   ],
   "source": [
    "train.columns"
   ]
  },
  {
   "cell_type": "code",
   "execution_count": 59,
   "metadata": {},
   "outputs": [],
   "source": [
    "X_train = train.drop(columns='Disease_Risk')\n",
    "y_train = train['Disease_Risk']"
   ]
  },
  {
   "cell_type": "code",
   "execution_count": 49,
   "metadata": {},
   "outputs": [
    {
     "data": {
      "text/plain": [
       "array([1, 1, 1, ..., 0, 0, 0])"
      ]
     },
     "execution_count": 49,
     "metadata": {},
     "output_type": "execute_result"
    }
   ],
   "source": [
    "labels = train['Disease_Risk'].values"
   ]
  },
  {
   "cell_type": "code",
   "execution_count": 61,
   "metadata": {},
   "outputs": [],
   "source": [
    "def load_and_preprocess_image(image_id, image_folder, target_size=(224, 224)):\n",
    "    \"\"\"\n",
    "    Load and preprocess an image given its ID.\n",
    "    \"\"\"\n",
    "    image_path = os.path.join(image_folder, f'{image_id}.jpg')  # Update with your image extension\n",
    "    image = load_img(image_path, target_size=target_size)\n",
    "    image = img_to_array(image)\n",
    "    image = image / 255.0  # Normalize to [0, 1]\n",
    "    return image"
   ]
  },
  {
   "cell_type": "code",
   "execution_count": 62,
   "metadata": {},
   "outputs": [
    {
     "ename": "NameError",
     "evalue": "name 'data' is not defined",
     "output_type": "error",
     "traceback": [
      "\u001b[0;31m---------------------------------------------------------------------------\u001b[0m",
      "\u001b[0;31mNameError\u001b[0m                                 Traceback (most recent call last)",
      "\u001b[1;32m/Users/annandvirk/code/avirklol/projects/le_wagon/eye_spy_peekaboo_for_health/notebooks/model_exploration.ipynb Cell 7\u001b[0m line \u001b[0;36m2\n\u001b[1;32m      <a href='vscode-notebook-cell:/Users/annandvirk/code/avirklol/projects/le_wagon/eye_spy_peekaboo_for_health/notebooks/model_exploration.ipynb#X15sZmlsZQ%3D%3D?line=0'>1</a>\u001b[0m image_folder \u001b[39m=\u001b[39m \u001b[39m'\u001b[39m\u001b[39m/path/to/your/images\u001b[39m\u001b[39m'\u001b[39m  \u001b[39m# Update with the path to your image directory\u001b[39;00m\n\u001b[0;32m----> <a href='vscode-notebook-cell:/Users/annandvirk/code/avirklol/projects/le_wagon/eye_spy_peekaboo_for_health/notebooks/model_exploration.ipynb#X15sZmlsZQ%3D%3D?line=1'>2</a>\u001b[0m images \u001b[39m=\u001b[39m np\u001b[39m.\u001b[39marray([load_and_preprocess_image(row_id, image_folder) \u001b[39mfor\u001b[39;00m row_id \u001b[39min\u001b[39;00m data[\u001b[39m'\u001b[39m\u001b[39mID\u001b[39m\u001b[39m'\u001b[39m]])\n",
      "\u001b[0;31mNameError\u001b[0m: name 'data' is not defined"
     ]
    }
   ],
   "source": [
    "image_folder = '/path/to/your/images'  # Update with the path to your image directory\n",
    "images = np.array([load_and_preprocess_image(row_id, image_folder) for row_id in data['ID']])\n"
   ]
  },
  {
   "cell_type": "code",
   "execution_count": null,
   "metadata": {},
   "outputs": [],
   "source": [
    "model = Sequential([\n",
    "    Conv2D(32, (3, 3), activation='relu', input_shape=(224, 224, 3)),\n",
    "    MaxPooling2D(2, 2),\n",
    "    Conv2D(64, (3, 3), activation='relu'),\n",
    "    MaxPooling2D(2, 2),\n",
    "    Flatten(),\n",
    "    Dense(64, activation='relu'),\n",
    "    Dense(1, activation='sigmoid')  \n",
    "])\n",
    "\n",
    "model.compile(optimizer='adam', loss='binary_crossentropy', metrics=['accuracy']) \n"
   ]
  }
 ],
 "metadata": {
  "kernelspec": {
   "display_name": "lewagon",
   "language": "python",
   "name": "python3"
  },
  "language_info": {
   "codemirror_mode": {
    "name": "ipython",
    "version": 3
   },
   "file_extension": ".py",
   "mimetype": "text/x-python",
   "name": "python",
   "nbconvert_exporter": "python",
   "pygments_lexer": "ipython3",
   "version": "3.10.6"
  }
 },
 "nbformat": 4,
 "nbformat_minor": 2
}
