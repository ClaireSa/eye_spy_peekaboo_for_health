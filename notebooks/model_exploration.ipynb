{
 "cells": [
  {
   "cell_type": "code",
   "execution_count": 1,
   "metadata": {},
   "outputs": [],
   "source": [
    "import os\n",
    "import pandas as pd\n",
    "import numpy as np\n",
    "from tensorflow.keras.preprocessing.image import load_img, img_to_array\n",
    "from tensorflow.keras.utils import to_categorical\n",
    "from sklearn.model_selection import train_test_split\n",
    "from tensorflow.keras.models import Sequential, Model\n",
    "from tensorflow.keras.layers import Dense, Conv2D, Flatten, MaxPooling2D, Input, concatenate\n"
   ]
  },
  {
   "cell_type": "code",
   "execution_count": 2,
   "metadata": {},
   "outputs": [],
   "source": [
    "train = pd.read_csv('../data/RFMiD_Training_Labels.csv').set_index('ID')\n",
    "test = pd.read_csv('../data/RFMiD_Testing_Labels.csv').set_index('ID')\n",
    "eval = pd.read_csv('../data/RFMiD_Validation_Labels.csv').set_index('ID')\n"
   ]
  },
  {
   "cell_type": "code",
   "execution_count": 3,
   "metadata": {},
   "outputs": [
    {
     "data": {
      "text/plain": [
       "Index(['Disease_Risk', 'DR', 'ARMD', 'MH', 'DN', 'MYA', 'BRVO', 'TSLN', 'ERM',\n",
       "       'LS', 'MS', 'CSR', 'ODC', 'CRVO', 'TV', 'AH', 'ODP', 'ODE', 'ST',\n",
       "       'AION', 'PT', 'RT', 'RS', 'CRS', 'EDN', 'RPEC', 'MHL', 'RP', 'CWS',\n",
       "       'CB', 'ODPM', 'PRH', 'MNF', 'HR', 'CRAO', 'TD', 'CME', 'PTCR', 'CF',\n",
       "       'VH', 'MCA', 'VS', 'BRAO', 'PLQ', 'HPED', 'CL'],\n",
       "      dtype='object')"
      ]
     },
     "execution_count": 3,
     "metadata": {},
     "output_type": "execute_result"
    }
   ],
   "source": [
    "train.columns\n"
   ]
  },
  {
   "cell_type": "code",
   "execution_count": 4,
   "metadata": {},
   "outputs": [],
   "source": [
    "X_train = train.drop(columns='Disease_Risk')\n",
    "y_train = train['Disease_Risk']\n",
    "X_eval  = eval.drop(columns='Disease_Risk')\n",
    "y_eval = eval['Disease_Risk']\n"
   ]
  },
  {
   "cell_type": "code",
   "execution_count": 5,
   "metadata": {},
   "outputs": [
    {
     "data": {
      "text/html": [
       "<div>\n",
       "<style scoped>\n",
       "    .dataframe tbody tr th:only-of-type {\n",
       "        vertical-align: middle;\n",
       "    }\n",
       "\n",
       "    .dataframe tbody tr th {\n",
       "        vertical-align: top;\n",
       "    }\n",
       "\n",
       "    .dataframe thead th {\n",
       "        text-align: right;\n",
       "    }\n",
       "</style>\n",
       "<table border=\"1\" class=\"dataframe\">\n",
       "  <thead>\n",
       "    <tr style=\"text-align: right;\">\n",
       "      <th></th>\n",
       "      <th>DR</th>\n",
       "      <th>ARMD</th>\n",
       "      <th>MH</th>\n",
       "      <th>DN</th>\n",
       "      <th>MYA</th>\n",
       "      <th>BRVO</th>\n",
       "      <th>TSLN</th>\n",
       "      <th>ERM</th>\n",
       "      <th>LS</th>\n",
       "      <th>MS</th>\n",
       "      <th>...</th>\n",
       "      <th>CME</th>\n",
       "      <th>PTCR</th>\n",
       "      <th>CF</th>\n",
       "      <th>VH</th>\n",
       "      <th>MCA</th>\n",
       "      <th>VS</th>\n",
       "      <th>BRAO</th>\n",
       "      <th>PLQ</th>\n",
       "      <th>HPED</th>\n",
       "      <th>CL</th>\n",
       "    </tr>\n",
       "    <tr>\n",
       "      <th>ID</th>\n",
       "      <th></th>\n",
       "      <th></th>\n",
       "      <th></th>\n",
       "      <th></th>\n",
       "      <th></th>\n",
       "      <th></th>\n",
       "      <th></th>\n",
       "      <th></th>\n",
       "      <th></th>\n",
       "      <th></th>\n",
       "      <th></th>\n",
       "      <th></th>\n",
       "      <th></th>\n",
       "      <th></th>\n",
       "      <th></th>\n",
       "      <th></th>\n",
       "      <th></th>\n",
       "      <th></th>\n",
       "      <th></th>\n",
       "      <th></th>\n",
       "      <th></th>\n",
       "    </tr>\n",
       "  </thead>\n",
       "  <tbody>\n",
       "    <tr>\n",
       "      <th>1503</th>\n",
       "      <td>1</td>\n",
       "      <td>0</td>\n",
       "      <td>0</td>\n",
       "      <td>0</td>\n",
       "      <td>0</td>\n",
       "      <td>0</td>\n",
       "      <td>0</td>\n",
       "      <td>0</td>\n",
       "      <td>0</td>\n",
       "      <td>0</td>\n",
       "      <td>...</td>\n",
       "      <td>0</td>\n",
       "      <td>0</td>\n",
       "      <td>0</td>\n",
       "      <td>0</td>\n",
       "      <td>0</td>\n",
       "      <td>0</td>\n",
       "      <td>0</td>\n",
       "      <td>0</td>\n",
       "      <td>0</td>\n",
       "      <td>0</td>\n",
       "    </tr>\n",
       "  </tbody>\n",
       "</table>\n",
       "<p>1 rows × 45 columns</p>\n",
       "</div>"
      ],
      "text/plain": [
       "      DR  ARMD  MH  DN  MYA  BRVO  TSLN  ERM  LS  MS  ...  CME  PTCR  CF  VH  \\\n",
       "ID                                                    ...                      \n",
       "1503   1     0   0   0    0     0     0    0   0   0  ...    0     0   0   0   \n",
       "\n",
       "      MCA  VS  BRAO  PLQ  HPED  CL  \n",
       "ID                                  \n",
       "1503    0   0     0    0     0   0  \n",
       "\n",
       "[1 rows x 45 columns]"
      ]
     },
     "execution_count": 5,
     "metadata": {},
     "output_type": "execute_result"
    }
   ],
   "source": [
    "X_train.sample()\n"
   ]
  },
  {
   "cell_type": "code",
   "execution_count": 7,
   "metadata": {},
   "outputs": [],
   "source": [
    "def load_and_preprocess_image(image_id, image_folder, target_size=(224, 224)):\n",
    "    \"\"\"\n",
    "    Load and preprocess an image given its ID.\n",
    "    \"\"\"\n",
    "    image_path = os.path.join(image_folder, f'{image_id}.png')\n",
    "    image = load_img(image_path, target_size=target_size)\n",
    "    image = img_to_array(image)\n",
    "    image = image / 255.0 \n",
    "    return image\n"
   ]
  },
  {
   "cell_type": "code",
   "execution_count": 8,
   "metadata": {},
   "outputs": [],
   "source": [
    "image_folder = '../data/training_images'\n",
    "images = np.array([load_and_preprocess_image(row_id, image_folder) for row_id in X_train.index])\n"
   ]
  },
  {
   "cell_type": "code",
   "execution_count": 9,
   "metadata": {},
   "outputs": [],
   "source": [
    "eval_image_folder = '../data/eval_images'\n",
    "eval_images = np.array([load_and_preprocess_image(row_id, image_folder) for row_id in X_eval.index])\n"
   ]
  },
  {
   "cell_type": "code",
   "execution_count": 31,
   "metadata": {},
   "outputs": [],
   "source": [
    "image_input = Input(shape=(224, 224, 3))\n",
    "x = Conv2D(32, (3, 3), activation='relu')(image_input)\n",
    "x = MaxPooling2D(2, 2)(x)\n",
    "x = Flatten()(x)\n",
    "\n",
    "\n",
    "row_input = Input(shape=(X_train.shape[1],))\n",
    "y = Dense(64, activation='relu')(row_input)\n",
    "\n",
    "combined = concatenate([x, y])\n",
    "\n",
    "z = Dense(12, activation='relu')(combined)\n",
    "z = Dense(64, activation='relu')(z)\n",
    "z = Dense(1, activation='sigmoid')(z) \n",
    "\n",
    "\n",
    "model = Model(inputs=[image_input, row_input], outputs=z)\n",
    "\n",
    "model.compile(optimizer='adam', loss='binary_crossentropy', metrics=['accuracy'])"
   ]
  },
  {
   "cell_type": "code",
   "execution_count": 32,
   "metadata": {},
   "outputs": [
    {
     "name": "stdout",
     "output_type": "stream",
     "text": [
      "Model: \"model_9\"\n",
      "__________________________________________________________________________________________________\n",
      " Layer (type)                Output Shape                 Param #   Connected to                  \n",
      "==================================================================================================\n",
      " input_21 (InputLayer)       [(None, 224, 224, 3)]        0         []                            \n",
      "                                                                                                  \n",
      " conv2d_9 (Conv2D)           (None, 222, 222, 32)         896       ['input_21[0][0]']            \n",
      "                                                                                                  \n",
      " max_pooling2d_9 (MaxPoolin  (None, 111, 111, 32)         0         ['conv2d_9[0][0]']            \n",
      " g2D)                                                                                             \n",
      "                                                                                                  \n",
      " input_22 (InputLayer)       [(None, 45)]                 0         []                            \n",
      "                                                                                                  \n",
      " flatten_9 (Flatten)         (None, 394272)               0         ['max_pooling2d_9[0][0]']     \n",
      "                                                                                                  \n",
      " dense_33 (Dense)            (None, 64)                   2944      ['input_22[0][0]']            \n",
      "                                                                                                  \n",
      " concatenate_9 (Concatenate  (None, 394336)               0         ['flatten_9[0][0]',           \n",
      " )                                                                   'dense_33[0][0]']            \n",
      "                                                                                                  \n",
      " dense_34 (Dense)            (None, 12)                   4732044   ['concatenate_9[0][0]']       \n",
      "                                                                                                  \n",
      " dense_35 (Dense)            (None, 64)                   832       ['dense_34[0][0]']            \n",
      "                                                                                                  \n",
      " dense_36 (Dense)            (None, 1)                    65        ['dense_35[0][0]']            \n",
      "                                                                                                  \n",
      "==================================================================================================\n",
      "Total params: 4736781 (18.07 MB)\n",
      "Trainable params: 4736781 (18.07 MB)\n",
      "Non-trainable params: 0 (0.00 Byte)\n",
      "__________________________________________________________________________________________________\n"
     ]
    }
   ],
   "source": [
    "model.summary()"
   ]
  },
  {
   "cell_type": "code",
   "execution_count": 33,
   "metadata": {},
   "outputs": [
    {
     "name": "stdout",
     "output_type": "stream",
     "text": [
      "Epoch 1/10\n",
      "60/60 [==============================] - 17s 268ms/step - loss: 0.5259 - accuracy: 0.8036 - val_loss: 0.5266 - val_accuracy: 0.7906\n",
      "Epoch 2/10\n",
      "60/60 [==============================] - 17s 288ms/step - loss: 0.4263 - accuracy: 0.8203 - val_loss: 0.5802 - val_accuracy: 0.7906\n",
      "Epoch 3/10\n",
      "60/60 [==============================] - 16s 259ms/step - loss: 0.3637 - accuracy: 0.8411 - val_loss: 0.4132 - val_accuracy: 0.7906\n",
      "Epoch 4/10\n",
      "60/60 [==============================] - 25s 412ms/step - loss: 0.2238 - accuracy: 0.9193 - val_loss: 0.1488 - val_accuracy: 0.9828\n",
      "Epoch 5/10\n",
      "60/60 [==============================] - 17s 272ms/step - loss: 0.0954 - accuracy: 0.9984 - val_loss: 0.0788 - val_accuracy: 0.9937\n",
      "Epoch 6/10\n",
      "60/60 [==============================] - 18s 298ms/step - loss: 0.0497 - accuracy: 1.0000 - val_loss: 0.0432 - val_accuracy: 0.9937\n",
      "Epoch 7/10\n",
      "60/60 [==============================] - 16s 264ms/step - loss: 0.0258 - accuracy: 1.0000 - val_loss: 0.0253 - val_accuracy: 0.9953\n",
      "Epoch 8/10\n",
      "60/60 [==============================] - 14s 237ms/step - loss: 0.0139 - accuracy: 1.0000 - val_loss: 0.0152 - val_accuracy: 0.9953\n",
      "Epoch 9/10\n",
      "60/60 [==============================] - 15s 245ms/step - loss: 0.0056 - accuracy: 1.0000 - val_loss: 0.0161 - val_accuracy: 0.9891\n",
      "Epoch 10/10\n",
      "60/60 [==============================] - 15s 255ms/step - loss: 0.0013 - accuracy: 1.0000 - val_loss: 0.0164 - val_accuracy: 0.9922\n"
     ]
    },
    {
     "data": {
      "text/plain": [
       "<keras.src.callbacks.History at 0x35f287310>"
      ]
     },
     "execution_count": 33,
     "metadata": {},
     "output_type": "execute_result"
    }
   ],
   "source": [
    "model.fit(\n",
    "    [images, X_train], y_train,\n",
    "    validation_data=([eval_images, X_eval], y_eval),\n",
    "    epochs=10,\n",
    "    batch_size=32\n",
    ")\n"
   ]
  },
  {
   "cell_type": "code",
   "execution_count": 34,
   "metadata": {},
   "outputs": [
    {
     "name": "stdout",
     "output_type": "stream",
     "text": [
      "20/20 [==============================] - 1s 68ms/step - loss: 0.0164 - accuracy: 0.9922\n"
     ]
    },
    {
     "data": {
      "text/plain": [
       "[0.016367468982934952, 0.9921875]"
      ]
     },
     "execution_count": 34,
     "metadata": {},
     "output_type": "execute_result"
    }
   ],
   "source": [
    "model.evaluate([eval_images, X_eval], y_eval)\n"
   ]
  }
 ],
 "metadata": {
  "kernelspec": {
   "display_name": "lewagon",
   "language": "python",
   "name": "python3"
  },
  "language_info": {
   "codemirror_mode": {
    "name": "ipython",
    "version": 3
   },
   "file_extension": ".py",
   "mimetype": "text/x-python",
   "name": "python",
   "nbconvert_exporter": "python",
   "pygments_lexer": "ipython3",
   "version": "3.10.6"
  }
 },
 "nbformat": 4,
 "nbformat_minor": 2
}
